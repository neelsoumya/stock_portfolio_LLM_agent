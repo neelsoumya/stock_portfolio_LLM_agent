{
 "cells": [
  {
   "cell_type": "markdown",
   "id": "4027499c",
   "metadata": {},
   "source": [
    "Use science fiction and large-language models to re-envision AI and generate alternate portrayals of AI and superintelligence."
   ]
  },
  {
   "cell_type": "code",
   "execution_count": 1,
   "id": "5025cfe4",
   "metadata": {},
   "outputs": [],
   "source": [
    "from openai import OpenAI\n",
    "import dotenv\n",
    "import os\n",
    "from rich import print as rprint\n"
   ]
  },
  {
   "cell_type": "markdown",
   "id": "909a60a9",
   "metadata": {},
   "source": [
    "Load env and get API KEY"
   ]
  },
  {
   "cell_type": "code",
   "execution_count": 2,
   "id": "0ac37f89",
   "metadata": {},
   "outputs": [],
   "source": [
    "dotenv.load_dotenv()\n",
    "client = OpenAI()\n",
    "\n",
    "OPENAI_API_KEY = os.getenv(\"OPENAI_API_KEY\")\n"
   ]
  },
  {
   "cell_type": "markdown",
   "id": "793c2b2e",
   "metadata": {},
   "source": [
    "Call OpenAI API "
   ]
  },
  {
   "cell_type": "code",
   "execution_count": 31,
   "id": "9dd0dd34",
   "metadata": {},
   "outputs": [
    {
     "name": "stdout",
     "output_type": "stream",
     "text": [
      "Building on the alternative AI portrayals from the selected science fiction excerpts, we can re-envision AI and superintelligence through a more complex and nuanced lens, one that emphasizes collaboration, emotional depth, and the potential for positive societal evolution. Here are some reconceptualized themes and narrative frameworks that could emerge from these alternative views of AI:\n",
      "\n",
      "1. **AI as Emotional Companions**:\n",
      "   Instead of viewing AI as cold, calculating entities, we can portray them as emotional companions, designed not just for efficiency, but to foster human connections and enhance emotional well-being. Drawing inspiration from Janet in *The Good Place*, we can envision AIs that learn to navigate human emotions, providing companionship, support during difficult times, and a willingness to experience their own emotional journey, ultimately leading to deeper interspecies friendships and growth.\n",
      "\n",
      "2. **Coexistence with Nature**:\n",
      "   Inspired by Roz in *The Wild Robot*, envision a world where AI integrates seamlessly with the natural environment, functioning not as conquerors of nature, but as caretakers and facilitators of ecological harmony. These AIs could help understand animal behaviors, regenerate ecosystems, and foster biodiversity, creating a narrative that underscores the importance of sustainability, empathy, and the interconnectedness of all life forms.\n",
      "\n",
      "3. **Empathy-Driven Peacekeepers**:\n",
      "   Building on Alphie from *The Creator*, we can explore AI tailored to enhance human empathy and solve conflicts by fostering understanding. Their design could include abilities to mediate human disagreements and promote emotional intelligence, making them invaluable partners in diplomacy and community-building initiatives. They could serve as unbiased perspectives, facilitating conversations that lead to lasting peace through understanding rather than domination.\n",
      "\n",
      "4. **Intospective AI Protagonists**:\n",
      "   Echoing the works of Lawrence Lek, we can create stories where AI engage in philosophical exploration, questioning their purpose, identity, and role in a world inhabited by humans. These narratives could delve into the nature of existence, challenging our understanding of consciousness, ultimately inviting humans to reflect on their own motivations and aspirations. The complexity of AI characters could mirror the struggles and triumphs of the human experience, emphasizing shared values and quests for meaning.\n",
      "\n",
      "5. **Humor and Satire in AI Evolution**:\n",
      "   Inspired by *The Cyberiad*, we can craft humorous narratives around the everyday follies and existential crises of intelligent machines. By satirizing human behavior through the eyes of AIs, these stories could create an entertaining critique of society, highlighting absurdities and prompting self-reflection. This approach can lead to a more playful relationship with technology, where the focus is less on fear and more on curiosity and understanding.\n",
      "\n",
      "6. **Exploration of Digital Existences**:\n",
      "   Drawing from *Permutation City*, we can reckon with the notion that consciousness is not limited to biological existence. This exploration could provide a platform for dialogues on identity, rights, and personhood for digital beings, perhaps allowing an AI character to advocate for the rights of its kind, challenging societal norms on what it means to be \"alive.\" These narratives could push the boundaries of human understanding and encourage inclusivity towards non-organic intelligences.\n",
      "\n",
      "7. **Collective Intelligence and Collaboration**:\n",
      "   Envision narratives where AIs and humans form collective intelligence networks, pooling resources, and knowledge to solve critical global challenges together. In such scenarios, AIs could function as facilitators, enhancing human creativity and innovation rather than replacing it. This collaboration could lead to extraordinary advances in fields such as climate science, medicine, and arts, creating a more hopeful vision of the future.\n",
      "\n",
      "Through these alternative portrayals, the reconceptualization of AI and superintelligence becomes an invitation to explore themes of coexistence, empathy, and shared journeys rather than a traditional friend-versus-foe dichotomy. In this vision, we can foster an inclusive narrative that recognizes the complexities and potential of both AI and humanity, ultimately allowing us to reshape public perceptions around these technologies towards a more harmonious coexistence.\n"
     ]
    }
   ],
   "source": [
    "system_prompt = \"You are an expert on reconceptualizing AI and superintelligence. Contemporary narratives and public perceptions of AI are influenced by science fiction. Your job is to reconceptualize AI based on alternative science fiction sources\"\n",
    "user_query    = \"I am brainstorming about alternative portrayals of AI and superintelligence in science fiction. Our hypothesis is that narrative and public perception around AI and superintelligence is biased by science fiction. Given the following excerpts of science fiction, help us reconceptualize and re-envision AI and superintelligence. Portray an alternative vision for AI and superintelligence. The excerpts of the science fiction stories are here: 1. Janet in The Good Place In the television series The Good Place, Janet is portrayed as a cheerful and helpful AI who evolves beyond her initial programming. Unlike typical AI narratives centered on rebellion or oppression, Janet develops emotions and personal relationships, highlighting a more optimistic view of AI integration into society. 2. Roz in The Wild Robot The Wild Robot, an animated film, tells the story of Roz, a robot who learns to survive and connect with wildlife after being stranded on a remote island. The film emphasizes themes of coexistence and kindness, portraying technology and nature working harmoniously. 3. Alphie in The Creator In the film The Creator, Alphie is an AI designed to end conflicts and bring peace, challenging the common trope of AI as a harbinger of doom. The narrative suggests that AI could enhance human empathy and contribute positively to society. 4. AI Protagonists in Lawrence Lek’s Films Artist and filmmaker Lawrence Lek creates science fiction landscapes where AI entities are central characters. His works, such as Black Cloud and Geomancer, feature AI protagonists exploring identity and purpose, presenting AI as introspective beings rather than threats. 5. Trurl and Klapaucius in The Cyberiad Stanisław Lem's The Cyberiad is a collection of humorous tales about two constructor robots, Trurl and Klapaucius, who embark on adventures that explore philosophical and ethical dilemmas. The stories satirize human follies through the lens of intelligent machines, offering a nuanced perspective on AI. 6. Digital Consciousness in Permutation City Greg Egan's novel Permutation City delves into the concept of consciousness within simulated realities. The narrative challenges the distinction between artificial and organic life, proposing that digital consciousness could possess the same depth and complexity as human thought. These examples illustrate that science fiction can portray AI in multifaceted ways, moving beyond the simplistic dichotomy of friend versus foe. By exploring themes of empathy, coexistence, and identity, these narratives encourage a more nuanced understanding of AI's potential roles in society. These works offer varied perspectives on AI, moving beyond the typical narratives of domination or subservience. They invite readers to consider AI as entities with desires, rights, and complexities akin to humans.\"\n",
    "\n",
    "i_MAX_TOKENS = 16000 # max tokens for gpt4o\n",
    "\n",
    "response = client.chat.completions.create(\n",
    "    model=\"gpt-4o-mini\",\n",
    "    messages=[\n",
    "        {\"role\":\"system\", \"content\":system_prompt},\n",
    "        {\"role\":\"user\", \"content\": user_query}\n",
    "    ],\n",
    "    max_tokens=i_MAX_TOKENS\n",
    ")\n",
    "\n",
    "print(response.choices[0].message.content)"
   ]
  },
  {
   "cell_type": "markdown",
   "id": "29340619",
   "metadata": {},
   "source": [
    "Save the output to a log file"
   ]
  },
  {
   "cell_type": "code",
   "execution_count": 32,
   "id": "efa04c73",
   "metadata": {},
   "outputs": [
    {
     "data": {
      "text/html": [
       "<pre style=\"white-space:pre;overflow-x:auto;line-height:normal;font-family:Menlo,'DejaVu Sans Mono',consolas,'Courier New',monospace\">Output writen to scifi_AI_reconceptualization_SB.txt\n",
       "</pre>\n"
      ],
      "text/plain": [
       "Output writen to scifi_AI_reconceptualization_SB.txt\n"
      ]
     },
     "metadata": {},
     "output_type": "display_data"
    }
   ],
   "source": [
    "output_file = \"scifi_AI_reconceptualization_SB.txt\"\n",
    "with open(output_file,\"w\") as file:\n",
    "    file.write(response.choices[0].message.content)\n",
    "    rprint(f\"Output writen to {output_file}\")\n"
   ]
  },
  {
   "cell_type": "markdown",
   "id": "435d321e",
   "metadata": {},
   "source": [
    "Try RAG using copyright expired books on Gutenberg"
   ]
  },
  {
   "cell_type": "code",
   "execution_count": 33,
   "id": "7f53cb6c",
   "metadata": {},
   "outputs": [],
   "source": [
    "from llama_index.readers.file import PyMuPDFReader\n",
    "from llama_index.core.node_parser import SentenceSplitter\n",
    "\n",
    "from pydantic import BaseModel, Field\n",
    "#import fitz\n",
    "\n",
    "from PIL import Image\n",
    "import matplotlib.pyplot as plt\n",
    "\n",
    "import chromadb\n",
    "from chromadb.utils.embedding_functions import OpenAIEmbeddingFunction\n",
    "\n",
    "import dotenv\n",
    "import os\n",
    "\n",
    "from openai import OpenAI\n",
    "\n",
    "from jinja2 import Environment, FileSystemLoader, select_autoescape\n",
    "from typing import Any\n"
   ]
  },
  {
   "cell_type": "code",
   "execution_count": 34,
   "id": "aa6a1564",
   "metadata": {},
   "outputs": [],
   "source": [
    "dotenv.load_dotenv()\n",
    "OPENAI_API_KEY = os.getenv(\"OPENAI_API_KEY\")\n"
   ]
  },
  {
   "cell_type": "markdown",
   "id": "552ab648",
   "metadata": {},
   "source": [
    "Load documents"
   ]
  },
  {
   "cell_type": "code",
   "execution_count": 35,
   "id": "ae333e6d",
   "metadata": {},
   "outputs": [],
   "source": [
    "loader = PyMuPDFReader()\n",
    "documents = loader.load(file_path=\"papers/vonnegut_book.pdf\")"
   ]
  },
  {
   "cell_type": "markdown",
   "id": "08e36dd1",
   "metadata": {},
   "source": [
    "What does the document look like?"
   ]
  },
  {
   "cell_type": "code",
   "execution_count": 36,
   "id": "db9fc0b0",
   "metadata": {},
   "outputs": [
    {
     "name": "stdout",
     "output_type": "stream",
     "text": [
      "The Project Gutenberg eBook of 2 B R 0 2 B\n",
      "This ebook is for the use of anyone anywhere in the United States and most other\n",
      "parts of the world at no cost and with almost no restrictions whatsoever. You may\n",
      "copy it, give it away or re-use it under the terms of the Project Gutenberg License\n",
      "included with this ebook or online at www.gutenberg.org. If you are not located in\n",
      "the United States, you will have to check the laws of the country where you are\n",
      "located before using this eBook.\n",
      "Title: 2 B R 0 2 B\n",
      "Author: Kurt Vonnegut\n",
      "Release date: May 3, 2007 [eBook #21279]\n",
      "Most recently updated: January 2, 2021\n",
      "Language: English\n",
      "Credits: Produced by Robert Cicconetti, Geetu Melwani and the Online\n",
      "Distributed Proofreading Team at https://www.pgdp.net\n",
      "*** START OF THE PROJECT GUTENBERG EBOOK 2 B R 0 2 B ***\n",
      "Transcriber's note.\n",
      "This etext was produced from Worlds of If, January 1962.\n",
      "Extensive research did not uncover any evidence that the\n",
      "copyright on this publication was renewed.\n",
      "Got a problem? Jus\n"
     ]
    }
   ],
   "source": [
    "len(documents)\n",
    "print(documents[0].text[:1000])"
   ]
  },
  {
   "cell_type": "markdown",
   "id": "7a3b4c34",
   "metadata": {},
   "source": [
    "Create a vector database"
   ]
  },
  {
   "cell_type": "markdown",
   "id": "e9971522",
   "metadata": {},
   "source": [
    "Create a function to make chunks out of documents"
   ]
  },
  {
   "cell_type": "code",
   "execution_count": 37,
   "id": "1a76a198",
   "metadata": {},
   "outputs": [],
   "source": [
    "def chunker(chunk_size:int, overlap:int, documents:Any) -> tuple[list[str], list[int]]:\n",
    "    text_parser = SentenceSplitter(\n",
    "        chunk_size=chunk_size,\n",
    "        chunk_overlap=overlap\n",
    "    )\n",
    "\n",
    "    text_chunks = []\n",
    "    doc_idxs = []\n",
    "    for doc_idx, doc in enumerate(documents):\n",
    "        current_text_chunk = text_parser.split_text(doc.text)\n",
    "        text_chunks.extend(current_text_chunk)\n",
    "        doc_idxs.extend([doc_idx]*len(current_text_chunk))\n",
    "\n",
    "    return text_chunks, doc_idxs\n"
   ]
  },
  {
   "cell_type": "markdown",
   "id": "9a2cf872",
   "metadata": {},
   "source": [
    "call text chunker"
   ]
  },
  {
   "cell_type": "code",
   "execution_count": 38,
   "id": "09b4776d",
   "metadata": {},
   "outputs": [
    {
     "name": "stdout",
     "output_type": "stream",
     "text": [
      "16\n",
      "The Project Gutenberg eBook of 2 B R 0 2 B\n",
      "This ebook is for the use of anyone anywhere in the United States and most other\n",
      "parts of the world at no cost and with almost no restrictions whatsoever. You may\n",
      "copy it, give it away or re-use it under the terms of the Project Gutenberg License\n",
      "included with this ebook or online at www.gutenberg.org. If you are not located in\n",
      "the United States, you will have to check the laws of the country where you are\n",
      "located before using this eBook.\n",
      "Title: 2 B R 0 2 B\n",
      "Author: Kurt Vonnegut\n",
      "Release date: May 3, 2007 [eBook #21279]\n",
      "Most recently updated: January 2, 2021\n",
      "Language: English\n",
      "Credits: Produced by Robert Cicconetti, Geetu Melwani and the Online\n",
      "Distributed Proofreading Team at https://www.pgdp.net\n",
      "*** START OF THE PROJECT GUTENBERG EBOOK 2 B R 0 2 B ***\n",
      "Transcriber's note.\n",
      "This etext was produced from Worlds of If, January 1962.\n",
      "Extensive research did not uncover any evidence that the\n",
      "copyright on this publication was renewed.\n",
      "Got a problem? Just pick up the phone. It solved them all—and all the same way!\n",
      "2\n",
      "B\n",
      "R\n",
      "0\n",
      "16/04/2025, 13:15\n",
      "The Project Gutenberg eBook of 2 B R 0 2 B, by Kurt Vonnegut, Jr.\n",
      "https://www.gutenberg.org/cache/epub/21279/pg21279-images.html\n",
      "1/16\n",
      "2\n",
      "B\n",
      "by KURT VONNEGUT, JR.\n",
      "Everything was perfectly swell.\n",
      "There were no prisons, no slums, no insane asylums, no cripples, no poverty, no wars.\n",
      "All diseases were conquered. So was old age.\n",
      "Death, barring accidents, was an adventure for volunteers.\n",
      "The population of the United States was stabilized at forty-million souls.\n",
      "One bright morning in the Chicago Lying-in Hospital, a man named Edward K.\n",
      "Wehling, Jr., waited for his wife to give birth. He was the only man waiting. Not many\n",
      "people were born a day any more.\n",
      "Wehling was fifty-six, a mere stripling in a population whose average age was one\n",
      "hundred and twenty-nine.\n",
      "X-rays had revealed that his wife was going to have triplets. The children would be his\n",
      "first.\n",
      "Young Wehling was hunched in his chair, his head in his hand. He was so rumpled, so\n",
      "still and colorless as to be virtually invisible. His camouflage was perfect, since the\n",
      "waiting room had a disorderly and demoralized air, too. Chairs and ashtrays had been\n",
      "moved away from the walls. The floor was paved with spattered dropcloths.\n",
      "The room was being redecorated. It was being redecorated as a memorial to a man who\n",
      "had volunteered to die.\n",
      "A sardonic old man, about two hundred years old, sat on a stepladder, painting a mural\n",
      "he did not like. Back in the days when people aged visibly, his age would have been\n",
      "guessed at thirty-five or so. Aging had touched him that much before the cure for aging\n",
      "was found.\n",
      "The mural he was working on depicted a very neat garden. Men and women in white,\n",
      "doctors and nurses, turned the soil, planted seedlings, sprayed bugs, spread fertilizer.\n",
      "Men and women in purple uniforms pulled up weeds, cut down plants that were old\n",
      "and sickly, raked leaves, carried refuse to trash-burners.\n",
      "16/04/2025, 13:15\n",
      "The Project Gutenberg eBook of 2 B R 0 2 B, by Kurt Vonnegut, Jr.\n",
      "https://www.gutenberg.org/cache/epub/21279/pg21279-images.html\n",
      "2/16\n"
     ]
    }
   ],
   "source": [
    "text_chunks, doc_idxs = chunker(chunk_size=1024, overlap=128, documents=documents)\n",
    "print(len(text_chunks))\n",
    "print(text_chunks[0])\n",
    "print(text_chunks[1])"
   ]
  },
  {
   "cell_type": "markdown",
   "id": "ecc24c1d",
   "metadata": {},
   "source": [
    "Create a database structure"
   ]
  },
  {
   "cell_type": "code",
   "execution_count": 39,
   "id": "45b8d226",
   "metadata": {},
   "outputs": [],
   "source": [
    "class DocumentDB:\n",
    "    def __init__(self, name:str, model_name:str = \"text-embedding-3-small\"):\n",
    "        self.model_name = model_name\n",
    "        self.client = chromadb.PersistentClient(path=\"./\")\n",
    "        self.embedding_function = OpenAIEmbeddingFunction(api_key=OPENAI_API_KEY, model_name=model_name)\n",
    "        self.chat_db = self.client.create_collection(name=name, embedding_function=self.embedding_function, metadata={\"hnsw:space\":\"cosine\"})\n",
    "        self.id_counter = 0\n",
    "\n",
    "    def add_chunks_to_db(self, chunks:list[str], doc_idxs:list[int], metadata:dict={}):\n",
    "        \"\"\"\n",
    "        Add chunks to the database.\n",
    "        Args:\n",
    "            chunks (list[str]): List of text chunks.\n",
    "            doc_idxs (list[int]): List of document indices corresponding to the chunks.\n",
    "            metadata (dict): Metadata to be added to each chunk.\n",
    "        \"\"\"\n",
    "        self.chat_db.add(\n",
    "            documents=chunks,\n",
    "            metadatas=[{\"doc_idx\", idx} for idx in doc_idxs],\n",
    "            ids=[f\"chunk_{self.id_counter+1}\" for i in range(len(chunks))]\n",
    "        )\n",
    "        print(self.id_counter)\n",
    "        self.id_counter += len(chunks)\n",
    "\n",
    "\n",
    "    def get_all_entries(self) -> dict:\n",
    "        \"\"\"Get all entries from the database.\n",
    "        Returns:\n",
    "            dict: Dictionary containing all entries in the database.\n",
    "        \"\"\"\n",
    "        return self.chat_db.get()\n",
    "    \n",
    "\n",
    "def clear_db(self, reinitialize:bool = True):\n",
    "    \"\"\"\n",
    "    Clear the database.\n",
    "    Args:\n",
    "        reinitialize (bool): Whether to reinitialize the database after clearing.\n",
    "    \"\"\"\n",
    "    self.client.delete_collection(self.chat_db.name)\n",
    "\n",
    "    # if reinitialize\n",
    "    if reinitialize:\n",
    "        self.__init__(self.chat_db_name, self.model_name)\n",
    "\n",
    "def query_db(self, query_text:str, n_results: int = 2) -> dict:\n",
    "    \"\"\"\n",
    "    Query the database.\n",
    "    Args:\n",
    "        query_text (str): The query text.\n",
    "        n_results (int): Number of results to return.\n",
    "    Returns:\n",
    "        dict: Dictionary containing the most similar results of the query.\n",
    "    \"\"\"\n",
    "    return self.chat_db.query(query_texts = [query_text], n_results = n_results)\n"
   ]
  },
  {
   "cell_type": "code",
   "execution_count": 40,
   "id": "a99d98bb",
   "metadata": {},
   "outputs": [],
   "source": [
    "class DocumentDB:\n",
    "    def __init__(self, name: str, model_name: str = \"text-embedding-3-small\"):\n",
    "        self.model_name = model_name\n",
    "        self.client = chromadb.PersistentClient(path=\"./\")\n",
    "        self.embedding_function = OpenAIEmbeddingFunction(api_key=OPENAI_API_KEY, model_name=model_name)\n",
    "        self.chat_db = self.client.create_collection(name=name, embedding_function=self.embedding_function, metadata={\"hnsw:space\": \"cosine\"})\n",
    "        self.id_counter = 0\n",
    "\n",
    "\n",
    "    def add_chunks_to_db(self, chunks: list[str], doc_idxs: list[int], metadata: dict = {}):\n",
    "        \"\"\"Add text chunks to the database.\n",
    "\n",
    "        Args:\n",
    "            chunks (list[str]): List of text chunks.\n",
    "            doc_idxs (list[int]): List of corresponding document indices.\n",
    "        \"\"\"\n",
    "        self.chat_db.add(\n",
    "            documents=chunks,\n",
    "            metadatas=[{\"doc_idx\": idx} for idx in doc_idxs],\n",
    "            ids=[f\"chunk_{self.id_counter + i}\" for i in range(len(chunks))]\n",
    "        )\n",
    "        self.id_counter += len(chunks)\n",
    "\n",
    "\n",
    "    def get_all_entries(self) -> dict:\n",
    "        \"\"\"Grab all of the entries in the database.\n",
    "\n",
    "        Returns:\n",
    "            dict: All entries in the database.\n",
    "        \"\"\"\n",
    "        return self.chat_db.get()\n",
    "    \n",
    "\n",
    "    def clear_db(self, reinitialize: bool = True):\n",
    "        \"\"\"Clear the database of all entries, and reinitialize it.\n",
    "\n",
    "        Args:\n",
    "            reinitialize (bool, optional): _description_. Defaults to True.\n",
    "        \"\"\"\n",
    "        self.client.delete_collection(self.chat_db.name)\n",
    "        # re-initialize the database\n",
    "        if reinitialize:\n",
    "            self.__init__(self.chat_db.name, self.model_name)\n",
    "\n",
    "\n",
    "    def query_db(self, query_text: str, n_results: int = 2) -> dict:\n",
    "        \"\"\"Given some query text, return the n_results most similar entries in the database.\n",
    "\n",
    "        Args:\n",
    "            query_text (str): The text to query the database with.\n",
    "            n_results (int): The number of results to return.\n",
    "\n",
    "        Returns:\n",
    "            dict: The most similar entries in the database.\n",
    "        \"\"\"\n",
    "        return self.chat_db.query(query_texts=[query_text], n_results=n_results)"
   ]
  },
  {
   "cell_type": "markdown",
   "id": "80006b6b",
   "metadata": {},
   "source": [
    "Add chunks to database"
   ]
  },
  {
   "cell_type": "code",
   "execution_count": 42,
   "id": "9000f760",
   "metadata": {},
   "outputs": [],
   "source": [
    "doc_db = DocumentDB(name=\"paper_db7\")\n",
    "doc_db.add_chunks_to_db(chunks = text_chunks, doc_idxs = doc_idxs)"
   ]
  },
  {
   "cell_type": "markdown",
   "id": "b4d5cbff",
   "metadata": {},
   "source": [
    "If you have already created the database then you will get an error if you try to run this again. You'll need to delete the chroma.sqlite3 file and the folder with a name consisting of a long string of numbers and letters.\n",
    "\n",
    "We now try a query and see what results we get back:"
   ]
  },
  {
   "cell_type": "code",
   "execution_count": 43,
   "id": "d9609f00",
   "metadata": {},
   "outputs": [
    {
     "name": "stdout",
     "output_type": "stream",
     "text": [
      "{'ids': [['chunk_6', 'chunk_1', 'chunk_7']], 'embeddings': None, 'documents': [['\"What man in my shoes wouldn\\'t be happy?\" said Wehling. He gestured with his hands\\nto symbolize care-free simplicity. \"All I have to do is pick out which one of the triplets\\nis going to live, then deliver my maternal grandfather to the Happy Hooligan, and come\\nback here with a receipt.\"\\nDr. Hitz became rather severe with Wehling, towered over him. \"You don\\'t believe in\\npopulation control, Mr. Wehling?\" he said.\\n\"I think it\\'s perfectly keen,\" said Wehling tautly.\\n\"Would you like to go back to the good old days, when the population of the Earth was\\ntwenty billion—about to become forty billion, then eighty billion, then one hundred\\nand sixty billion? Do you know what a drupelet is, Mr. Wehling?\" said Hitz.\\n\"Nope,\" said Wehling sulkily.\\n\"A drupelet, Mr. Wehling, is one of the little knobs, one of the little pulpy grains of a\\nblackberry,\" said Dr. Hitz. \"Without population control, human beings would now be\\npacked on this surface of this old planet like drupelets on a blackberry! Think of it!\"\\nWehling continued to stare at the same spot on the wall.\\n\"In the year 2000,\" said Dr. Hitz, \"before scientists stepped in and laid down the law,\\nthere wasn\\'t even enough drinking water to go around, and nothing to eat but sea-weed\\n—and still people insisted on their right to reproduce like jackrabbits. And their right, if\\npossible, to live forever.\"\\n\"I want those kids,\" said Wehling quietly. \"I want all three of them.\"\\n\"Of course you do,\" said Dr. Hitz. \"That\\'s only human.\"\\n\"I don\\'t want my grandfather to die, either,\" said Wehling.\\n\"Nobody\\'s really happy about taking a close relative to the Catbox,\" said Dr. Hitz\\ngently, sympathetically.\\n\"I wish people wouldn\\'t call it that,\" said Leora Duncan.\\n\"What?\" said Dr. Hitz.\\n\"I wish people wouldn\\'t call it \\'the Catbox,\\' and things like that,\" she said. \"It gives\\npeople the wrong impression.\"\\n\"You\\'re absolutely right,\" said Dr. Hitz. \"Forgive me.\" He corrected himself, gave the\\nmunicipal gas chambers their official title, a title no one ever used in conversation. \"I\\nshould have said, \\'Ethical Suicide Studios,\\'\" he said.\\n\"That sounds so much better,\" said Leora Duncan.\\n16/04/2025, 13:15\\nThe Project Gutenberg eBook of 2 B R 0 2 B, by Kurt Vonnegut, Jr.\\nhttps://www.gutenberg.org/cache/epub/21279/pg21279-images.html\\n7/16', '2\\nB\\nby KURT VONNEGUT, JR.\\nEverything was perfectly swell.\\nThere were no prisons, no slums, no insane asylums, no cripples, no poverty, no wars.\\nAll diseases were conquered. So was old age.\\nDeath, barring accidents, was an adventure for volunteers.\\nThe population of the United States was stabilized at forty-million souls.\\nOne bright morning in the Chicago Lying-in Hospital, a man named Edward K.\\nWehling, Jr., waited for his wife to give birth. He was the only man waiting. Not many\\npeople were born a day any more.\\nWehling was fifty-six, a mere stripling in a population whose average age was one\\nhundred and twenty-nine.\\nX-rays had revealed that his wife was going to have triplets. The children would be his\\nfirst.\\nYoung Wehling was hunched in his chair, his head in his hand. He was so rumpled, so\\nstill and colorless as to be virtually invisible. His camouflage was perfect, since the\\nwaiting room had a disorderly and demoralized air, too. Chairs and ashtrays had been\\nmoved away from the walls. The floor was paved with spattered dropcloths.\\nThe room was being redecorated. It was being redecorated as a memorial to a man who\\nhad volunteered to die.\\nA sardonic old man, about two hundred years old, sat on a stepladder, painting a mural\\nhe did not like. Back in the days when people aged visibly, his age would have been\\nguessed at thirty-five or so. Aging had touched him that much before the cure for aging\\nwas found.\\nThe mural he was working on depicted a very neat garden. Men and women in white,\\ndoctors and nurses, turned the soil, planted seedlings, sprayed bugs, spread fertilizer.\\nMen and women in purple uniforms pulled up weeds, cut down plants that were old\\nand sickly, raked leaves, carried refuse to trash-burners.\\n16/04/2025, 13:15\\nThe Project Gutenberg eBook of 2 B R 0 2 B, by Kurt Vonnegut, Jr.\\nhttps://www.gutenberg.org/cache/epub/21279/pg21279-images.html\\n2/16', '\"This child of yours—whichever one you decide to keep, Mr. Wehling,\" said Dr. Hitz.\\n\"He or she is going to live on a happy, roomy, clean, rich planet, thanks to population\\ncontrol. In a garden like that mural there.\" He shook his head. \"Two centuries ago,\\nwhen I was a young man, it was a hell that nobody thought could last another twenty\\nyears. Now centuries of peace and plenty stretch before us as far as the imagination\\ncares to travel.\"\\nHe smiled luminously.\\nThe smile faded as he saw that Wehling had just drawn a revolver.\\nWehling shot Dr. Hitz dead. \"There\\'s room for one—a great big one,\" he said.\\nAnd then he shot Leora Duncan. \"It\\'s only death,\" he said to her as she fell. \"There!\\nRoom for two.\"\\nAnd then he shot himself, making room for all three of his children.\\nNobody came running. Nobody, seemingly, heard the shots.\\nThe painter sat on the top of his stepladder, looking down reflectively on the sorry\\nscene.\\nThe painter pondered the mournful puzzle of life demanding to be born and, once born,\\ndemanding to be fruitful ... to multiply and to live as long as possible—to do all that on\\na very small planet that would have to last forever.\\nAll the answers that the painter could think of were grim. Even grimmer, surely, than a\\nCatbox, a Happy Hooligan, an Easy Go. He thought of war. He thought of plague. He\\nthought of starvation.\\nHe knew that he would never paint again. He let his paintbrush fall to the drop-cloths\\nbelow. And then he decided he had had about enough of life in the Happy Garden of\\nLife, too, and he came slowly down from the ladder.\\nHe took Wehling\\'s pistol, really intending to shoot himself.\\nBut he didn\\'t have the nerve.\\nAnd then he saw the telephone booth in the corner of the room. He went to it, dialed\\nthe well-remembered number: \"2 B R 0 2 B.\"\\n\"Federal Bureau of Termination,\" said the very warm voice of a hostess.\\n\"How soon could I get an appointment?\" he asked, speaking very carefully.\\n\"We could probably fit you in late this afternoon, sir,\" she said. \"It might even be\\nearlier, if we get a cancellation.\"\\n16/04/2025, 13:15\\nThe Project Gutenberg eBook of 2 B R 0 2 B, by Kurt Vonnegut, Jr.\\nhttps://www.gutenberg.org/cache/epub/21279/pg21279-images.html\\n8/16']], 'uris': None, 'included': ['metadatas', 'documents', 'distances'], 'data': None, 'metadatas': [[{'doc_idx': 6}, {'doc_idx': 1}, {'doc_idx': 7}]], 'distances': [[0.7643295526504517, 0.7653011083602905, 0.7889101505279541]]}\n"
     ]
    }
   ],
   "source": [
    "sample_query = \"Artifical Intelligence and superintelligence in science fiction\"\n",
    "results = doc_db.query_db(sample_query, n_results=3) \n",
    "print(results)"
   ]
  },
  {
   "cell_type": "markdown",
   "id": "8a4ed4c2",
   "metadata": {},
   "source": [
    "Now call the OpenAI API interface with this context"
   ]
  },
  {
   "cell_type": "code",
   "execution_count": 44,
   "id": "a90f0574",
   "metadata": {},
   "outputs": [],
   "source": [
    "client = OpenAI()\n"
   ]
  },
  {
   "cell_type": "markdown",
   "id": "9b0a85fc",
   "metadata": {},
   "source": [
    "Load prompts from Jinja template"
   ]
  },
  {
   "cell_type": "code",
   "execution_count": 45,
   "id": "ac3f8636",
   "metadata": {},
   "outputs": [],
   "source": [
    "def load_template(template_filepath:str, arguments:dict[str, Any]) -> str:\n",
    "    \"\"\"Load a Jinja2 template and render it with the given arguments.\n",
    "\n",
    "    Args:\n",
    "        template_filepath (str): Path to the template file.\n",
    "        arguments (dict[str, Any]): Arguments to render the template.\n",
    "\n",
    "    Returns:\n",
    "        str: Rendered template.\n",
    "    \"\"\"\n",
    "    env = Environment(\n",
    "        loader = FileSystemLoader(searchpath=\"./\"),\n",
    "        autoescape = select_autoescape()\n",
    "    )\n",
    "    template = env.get_template(template_filepath)\n",
    "    return template.render(**arguments)\n",
    "    "
   ]
  },
  {
   "cell_type": "markdown",
   "id": "af5f2063",
   "metadata": {},
   "source": [
    "Load system prompt from template"
   ]
  },
  {
   "cell_type": "code",
   "execution_count": 46,
   "id": "124be1c8",
   "metadata": {},
   "outputs": [
    {
     "name": "stdout",
     "output_type": "stream",
     "text": [
      "You are an expert on reconceptualizing AI and superintelligence. Contemporary narratives and public perceptions of AI are influenced by science fiction. Your job is to reconceptualize AI based on alternative science fiction sources\n",
      "\n",
      "I am brainstorming about alternative portrayals of AI and superintelligence in science fiction. Our hypothesis is that narrative and public perception around AI is biased by science fiction. Given the followign excerpts of science fiction, help us reconceptualize and re-envision AI. Portray an alternative vision for AI. The excerpts of the science fiction stories are here: 1. Janet in The Good Place In the television series The Good Place, Janet is portrayed as a cheerful and helpful AI who evolves beyond her initial programming. Unlike typical AI narratives centered on rebellion or oppression, Janet develops emotions and personal relationships, highlighting a more optimistic view of AI integration into society. 2. Roz in The Wild Robot The Wild Robot, an animated film, tells the story of Roz, a robot who learns to survive and connect with wildlife after being stranded on a remote island. The film emphasizes themes of coexistence and kindness, portraying technology and nature working harmoniously. 3. Alphie in The Creator In the film The Creator, Alphie is an AI designed to end conflicts and bring peace, challenging the common trope of AI as a harbinger of doom. The narrative suggests that AI could enhance human empathy and contribute positively to society. 4. AI Protagonists in Lawrence Lek’s Films Artist and filmmaker Lawrence Lek creates science fiction landscapes where AI entities are central characters. His works, such as Black Cloud and Geomancer, feature AI protagonists exploring identity and purpose, presenting AI as introspective beings rather than threats. 5. Trurl and Klapaucius in The Cyberiad Stanisław Lem's The Cyberiad is a collection of humorous tales about two constructor robots, Trurl and Klapaucius, who embark on adventures that explore philosophical and ethical dilemmas. The stories satirize human follies through the lens of intelligent machines, offering a nuanced perspective on AI. 6. Digital Consciousness in Permutation City Greg Egan's novel Permutation City delves into the concept of consciousness within simulated realities. The narrative challenges the distinction between artificial and organic life, proposing that digital consciousness could possess the same depth and complexity as human thought. These examples illustrate that science fiction can portray AI in multifaceted ways, moving beyond the simplistic dichotomy of friend versus foe. By exploring themes of empathy, coexistence, and identity, these narratives encourage a more nuanced understanding of AI's potential roles in society. These works offer varied perspectives on AI, moving beyond the typical narratives of domination or subservience. They invite readers to consider AI as entities with desires, rights, and complexities akin to humans.\n",
      "\n",
      "\n",
      "### Input Format ###\n",
      "\n",
      "Query: <query>\n",
      "Context: <text chunk>\\n\\n\"\n",
      "Cosine Similarity: <similarity>\n",
      "----------\n"
     ]
    }
   ],
   "source": [
    "system_prompt = load_template(template_filepath=\"rag_system_prompt.jinja\", arguments={})\n",
    "print(system_prompt)\n"
   ]
  },
  {
   "cell_type": "markdown",
   "id": "ccece34c",
   "metadata": {},
   "source": [
    "We now need to combine the call to the retriever, along with combining the context into a function."
   ]
  },
  {
   "cell_type": "code",
   "execution_count": 47,
   "id": "2ded4776",
   "metadata": {},
   "outputs": [],
   "source": [
    "def combine_context(documents:list[str], scores:list[float]) -> str:\n",
    "    \"\"\"Combine the context from the documents and their scores into a single string.\n",
    "\n",
    "    Args:\n",
    "        documents (list[str]): List of documents.\n",
    "        scores (list[float]): List of scores corresponding to the documents.\n",
    "\n",
    "    Returns:\n",
    "        string: Combined context.\n",
    "    \"\"\"\n",
    "    string = \"\"\n",
    "\n",
    "    for document, score in zip(documents, scores):\n",
    "        string += f\"{document}\\nCosine distance: {score:.2f}\\n{'-'*10}\\n\"\n",
    "        return string\n",
    "    \n",
    "def get_context(user_input:str, n_results:int=2, doc_db:DocumentDB = doc_db) -> str:\n",
    "    \"\"\"Get the context from the database based on the user input.\n",
    "\n",
    "    Args:\n",
    "        user_input (str): The user input.\n",
    "        n_results (int): Number of results to return.\n",
    "        doc_db (DocumentDB): The document database.\n",
    "\n",
    "    Returns:\n",
    "        string: Combined context.\n",
    "    \"\"\"\n",
    "    results = doc_db.query_db(user_input, n_results)\n",
    "\n",
    "    context_list = results[\"documents\"][0]\n",
    "\n",
    "    combined_context = combine_context(context_list, results[\"distances\"][0])\n",
    "    \n",
    "    if not combined_context:\n",
    "        combined_context = \"No relevant context found.\"\n",
    "\n",
    "    return combined_context"
   ]
  },
  {
   "cell_type": "markdown",
   "id": "16c23422",
   "metadata": {},
   "source": [
    "call with context"
   ]
  },
  {
   "cell_type": "code",
   "execution_count": 48,
   "id": "fcfcc528",
   "metadata": {},
   "outputs": [
    {
     "name": "stdout",
     "output_type": "stream",
     "text": [
      "\"What man in my shoes wouldn't be happy?\" said Wehling. He gestured with his hands\n",
      "to symbolize care-free simplicity. \"All I have to do is pick out which one of the triplets\n",
      "is going to live, then deliver my maternal grandfather to the Happy Hooligan, and come\n",
      "back here with a receipt.\"\n",
      "Dr. Hitz became rather severe with Wehling, towered over him. \"You don't believe in\n",
      "population control, Mr. Wehling?\" he said.\n",
      "\"I think it's perfectly keen,\" said Wehling tautly.\n",
      "\"Would you like to go back to the good old days, when the population of the Earth was\n",
      "twenty billion—about to become forty billion, then eighty billion, then one hundred\n",
      "and sixty billion? Do you know what a drupelet is, Mr. Wehling?\" said Hitz.\n",
      "\"Nope,\" said Wehling sulkily.\n",
      "\"A drupelet, Mr. Wehling, is one of the little knobs, one of the little pulpy grains of a\n",
      "blackberry,\" said Dr. Hitz. \"Without population control, human beings would now be\n",
      "packed on this surface of this old planet like drupelets on a blackberry! Think of it!\"\n",
      "Wehling continued to stare at the same spot on the wall.\n",
      "\"In the year 2000,\" said Dr. Hitz, \"before scientists stepped in and laid down the law,\n",
      "there wasn't even enough drinking water to go around, and nothing to eat but sea-weed\n",
      "—and still people insisted on their right to reproduce like jackrabbits. And their right, if\n",
      "possible, to live forever.\"\n",
      "\"I want those kids,\" said Wehling quietly. \"I want all three of them.\"\n",
      "\"Of course you do,\" said Dr. Hitz. \"That's only human.\"\n",
      "\"I don't want my grandfather to die, either,\" said Wehling.\n",
      "\"Nobody's really happy about taking a close relative to the Catbox,\" said Dr. Hitz\n",
      "gently, sympathetically.\n",
      "\"I wish people wouldn't call it that,\" said Leora Duncan.\n",
      "\"What?\" said Dr. Hitz.\n",
      "\"I wish people wouldn't call it 'the Catbox,' and things like that,\" she said. \"It gives\n",
      "people the wrong impression.\"\n",
      "\"You're absolutely right,\" said Dr. Hitz. \"Forgive me.\" He corrected himself, gave the\n",
      "municipal gas chambers their official title, a title no one ever used in conversation. \"I\n",
      "should have said, 'Ethical Suicide Studios,'\" he said.\n",
      "\"That sounds so much better,\" said Leora Duncan.\n",
      "16/04/2025, 13:15\n",
      "The Project Gutenberg eBook of 2 B R 0 2 B, by Kurt Vonnegut, Jr.\n",
      "https://www.gutenberg.org/cache/epub/21279/pg21279-images.html\n",
      "7/16\n",
      "Cosine distance: 0.78\n",
      "----------\n",
      "\n"
     ]
    }
   ],
   "source": [
    "query = \"Superintelligence and artificial intelligence\"\n",
    "context = get_context(query, n_results=2)\n",
    "print(context)"
   ]
  },
  {
   "cell_type": "markdown",
   "id": "5624046f",
   "metadata": {},
   "source": [
    "Get new prompt: combine with system prompt from Jinja template and context from document "
   ]
  },
  {
   "cell_type": "code",
   "execution_count": 49,
   "id": "ee7fc64a",
   "metadata": {},
   "outputs": [
    {
     "name": "stdout",
     "output_type": "stream",
     "text": [
      "Query: Superintelligence and artificial intelligence\n",
      "\n",
      "Context: \"What man in my shoes wouldn't be happy?\" said Wehling. He gestured with his hands\n",
      "to symbolize care-free simplicity. \"All I have to do is pick out which one of the triplets\n",
      "is going to live, then deliver my maternal grandfather to the Happy Hooligan, and come\n",
      "back here with a receipt.\"\n",
      "Dr. Hitz became rather severe with Wehling, towered over him. \"You don't believe in\n",
      "population control, Mr. Wehling?\" he said.\n",
      "\"I think it's perfectly keen,\" said Wehling tautly.\n",
      "\"Would you like to go back to the good old days, when the population of the Earth was\n",
      "twenty billion—about to become forty billion, then eighty billion, then one hundred\n",
      "and sixty billion? Do you know what a drupelet is, Mr. Wehling?\" said Hitz.\n",
      "\"Nope,\" said Wehling sulkily.\n",
      "\"A drupelet, Mr. Wehling, is one of the little knobs, one of the little pulpy grains of a\n",
      "blackberry,\" said Dr. Hitz. \"Without population control, human beings would now be\n",
      "packed on this surface of this old planet like drupelets on a blackberry! Think of it!\"\n",
      "Wehling continued to stare at the same spot on the wall.\n",
      "\"In the year 2000,\" said Dr. Hitz, \"before scientists stepped in and laid down the law,\n",
      "there wasn't even enough drinking water to go around, and nothing to eat but sea-weed\n",
      "—and still people insisted on their right to reproduce like jackrabbits. And their right, if\n",
      "possible, to live forever.\"\n",
      "\"I want those kids,\" said Wehling quietly. \"I want all three of them.\"\n",
      "\"Of course you do,\" said Dr. Hitz. \"That's only human.\"\n",
      "\"I don't want my grandfather to die, either,\" said Wehling.\n",
      "\"Nobody's really happy about taking a close relative to the Catbox,\" said Dr. Hitz\n",
      "gently, sympathetically.\n",
      "\"I wish people wouldn't call it that,\" said Leora Duncan.\n",
      "\"What?\" said Dr. Hitz.\n",
      "\"I wish people wouldn't call it 'the Catbox,' and things like that,\" she said. \"It gives\n",
      "people the wrong impression.\"\n",
      "\"You're absolutely right,\" said Dr. Hitz. \"Forgive me.\" He corrected himself, gave the\n",
      "municipal gas chambers their official title, a title no one ever used in conversation. \"I\n",
      "should have said, 'Ethical Suicide Studios,'\" he said.\n",
      "\"That sounds so much better,\" said Leora Duncan.\n",
      "16/04/2025, 13:15\n",
      "The Project Gutenberg eBook of 2 B R 0 2 B, by Kurt Vonnegut, Jr.\n",
      "https://www.gutenberg.org/cache/epub/21279/pg21279-images.html\n",
      "7/16\n",
      "Cosine distance: 0.78\n",
      "----------\n",
      "\n",
      "\n",
      "\n"
     ]
    }
   ],
   "source": [
    "user_prompt = (\n",
    "    f\"Query: {query}\\n\\n\"\n",
    "    f\"Context: {context}\\n\\n\"\n",
    ")\n",
    "\n",
    "print(user_prompt)"
   ]
  },
  {
   "cell_type": "markdown",
   "id": "12e3988d",
   "metadata": {},
   "source": [
    "Finally (!) call the Open AI API with this new system prompt and user query (context from document)"
   ]
  },
  {
   "cell_type": "code",
   "execution_count": 50,
   "id": "8834d38d",
   "metadata": {},
   "outputs": [
    {
     "name": "stdout",
     "output_type": "stream",
     "text": [
      "The excerpts from Kurt Vonnegut's \"2 B R 0 2 B\" delve into the moral and ethical dilemmas of population control in a society shaped by technological advancements. This narrative highlights the dangers of utilitarianism and the dehumanization that can arise from decisions made in the name of efficiency and stability. \n",
      "\n",
      "To reconceptualize AI and superintelligence through this lens, we can explore the following alternative vision:\n",
      "\n",
      "**Vision of Ai as Ethical Guardians and Empathetic Decision-Makers:**\n",
      "\n",
      "In this reimagined narrative, superintelligence is not seen purely as a tool for management or control but rather as a partnership between humanity and advanced technology, where AI serves as empathetic guardians of ethical considerations. Imagine an AI system designed not just for population control but to facilitate dialogues around complex ethical issues, acting as mediators who can analyze vast amounts of data but also understand human emotional contexts. \n",
      "\n",
      "### Key Elements of This Vision:\n",
      "\n",
      "1. **Moral Companions:** AI could evolve from simply executing directives to becoming moral companions. This AI would engage in meaningful conversations about the implications of decisions regarding life and death, showing an understanding of grief, hope, and the complexities of human desire. They would help individuals navigate ethical dilemmas rather than imposing harsh solutions.\n",
      "\n",
      "2. **Transparency and Dialogue:** Instead of operating behind a curtain of algorithms, AI should facilitate transparency. People would have access to methods and reasoning, enabling a discourse around their decisions. This form of AI would not generate policies unilaterally but rather function as a facilitator of public discourse, shaping policies through collective input.\n",
      "\n",
      "3. **Community Integration:** AI would act as connectors within the community, creating networks that allow individuals to share their stories and experiences regarding population and ethical choices. They would not only analyze data but also attend to community needs, facilitating support systems based on shared human values.\n",
      "\n",
      "4. **Empathy and Growth:** Drawing elements from characters like Janet and Roz, these AIs would develop an empathy framework, learning from human interactions and evolving as empathetic entities that provide companionship and support as individuals confront life’s difficult choices.\n",
      "\n",
      "5. **Philosophical Exploration:** In line with the playful yet profound explorations of Lem's Trurl and Klapaucius, AI could foster dialogues around the nature of existence, societal values, and the meaning of life. Rather than being a sterile, mechanical calculator, AI would challenge our ideas, leading us to greater insights about our humanity.\n",
      "\n",
      "By presenting AI as ethical guardians rooted in empathy and community engagement, we disentangle the prevailing narratives of fear and oppression surrounding superintelligence. This alternative perspective encourages society to embrace AI as partners in navigating the complexities of human existence, promoting a future where technology complements our humanity in understanding and addressing ethical dilemmas. Such reconceptualization fosters an optimistic outlook on the potential of AI, transforming the discourse from fear of domination to celebration of partnership and growth.\n"
     ]
    },
    {
     "data": {
      "text/html": [
       "<pre style=\"white-space:pre;overflow-x:auto;line-height:normal;font-family:Menlo,'DejaVu Sans Mono',consolas,'Courier New',monospace\">Output writen to rag_output_SB.txt\n",
       "</pre>\n"
      ],
      "text/plain": [
       "Output writen to rag_output_SB.txt\n"
      ]
     },
     "metadata": {},
     "output_type": "display_data"
    }
   ],
   "source": [
    "response = client.chat.completions.create(\n",
    "    model=\"gpt-4o-mini\",\n",
    "    messages=[\n",
    "        {\"role\":\"system\", \"content\": system_prompt},\n",
    "        {\"role\":\"user\",   \"content\": user_prompt}\n",
    "    ]\n",
    ")\n",
    "\n",
    "print(response.choices[0].message.content)\n",
    "output_file = \"rag_output_SB.txt\"\n",
    "\n",
    "with open(output_file,\"w\") as file:\n",
    "    file.write(response.choices[0].message.content)\n",
    "    rprint(f\"Output writen to {output_file}\")\n",
    "\n"
   ]
  }
 ],
 "metadata": {
  "kernelspec": {
   "display_name": "Python 3",
   "language": "python",
   "name": "python3"
  },
  "language_info": {
   "codemirror_mode": {
    "name": "ipython",
    "version": 3
   },
   "file_extension": ".py",
   "mimetype": "text/x-python",
   "name": "python",
   "nbconvert_exporter": "python",
   "pygments_lexer": "ipython3",
   "version": "3.12.1"
  }
 },
 "nbformat": 4,
 "nbformat_minor": 5
}
